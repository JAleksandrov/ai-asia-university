{
 "cells": [
  {
   "cell_type": "code",
   "execution_count": 1,
   "metadata": {},
   "outputs": [
    {
     "name": "stdout",
     "output_type": "stream",
     "text": [
      "Hello AI\n"
     ]
    }
   ],
   "source": [
    "print(\"Hello AI\")"
   ]
  },
  {
   "cell_type": "code",
   "execution_count": 5,
   "metadata": {},
   "outputs": [
    {
     "name": "stdout",
     "output_type": "stream",
     "text": [
      "NN\n"
     ]
    }
   ],
   "source": [
    "x = 1\n",
    "y = 1\n",
    "\n",
    "if (x % 2) == 0 and (y % 2) == 0:\n",
    "    print('YY')\n",
    "elif (x % 2) == 1 and (y % 2) == 1:\n",
    "    print('NN')\n",
    "elif (x % 2) == 0 and (y % 2) == 1:\n",
    "    print('YN')    \n",
    "elif (x % 2) == 1 and (y % 2) == 0:\n",
    "    print('NY') \n"
   ]
  },
  {
   "cell_type": "code",
   "execution_count": 6,
   "metadata": {},
   "outputs": [
    {
     "name": "stdout",
     "output_type": "stream",
     "text": [
      "NY\n"
     ]
    }
   ],
   "source": [
    "x = 1\n",
    "y = 2\n",
    "\n",
    "if (x % 2) == 0 and (y % 2) == 0:\n",
    "    print('YY')\n",
    "elif (x % 2) == 1 and (y % 2) == 1:\n",
    "    print('NN')\n",
    "elif (x % 2) == 0 and (y % 2) == 1:\n",
    "    print('YN')    \n",
    "elif (x % 2) == 1 and (y % 2) == 0:\n",
    "    print('NY') \n"
   ]
  },
  {
   "cell_type": "code",
   "execution_count": 7,
   "metadata": {},
   "outputs": [
    {
     "name": "stdout",
     "output_type": "stream",
     "text": [
      "YN\n"
     ]
    }
   ],
   "source": [
    "x = 2\n",
    "y = 1\n",
    "\n",
    "if (x % 2) == 0 and (y % 2) == 0:\n",
    "    print('YY')\n",
    "elif (x % 2) == 1 and (y % 2) == 1:\n",
    "    print('NN')\n",
    "elif (x % 2) == 0 and (y % 2) == 1:\n",
    "    print('YN')    \n",
    "elif (x % 2) == 1 and (y % 2) == 0:\n",
    "    print('NY') \n"
   ]
  },
  {
   "cell_type": "code",
   "execution_count": 8,
   "metadata": {},
   "outputs": [
    {
     "name": "stdout",
     "output_type": "stream",
     "text": [
      "YY\n"
     ]
    }
   ],
   "source": [
    "x = 2\n",
    "y = 2\n",
    "\n",
    "if (x % 2) == 0 and (y % 2) == 0:\n",
    "    print('YY')\n",
    "elif (x % 2) == 1 and (y % 2) == 1:\n",
    "    print('NN')\n",
    "elif (x % 2) == 0 and (y % 2) == 1:\n",
    "    print('YN')    \n",
    "elif (x % 2) == 1 and (y % 2) == 0:\n",
    "    print('NY') \n"
   ]
  },
  {
   "cell_type": "code",
   "execution_count": 9,
   "metadata": {},
   "outputs": [
    {
     "name": "stdout",
     "output_type": "stream",
     "text": [
      "NY\n"
     ]
    }
   ],
   "source": [
    "x = 103\n",
    "y = 29802\n",
    "\n",
    "if (x % 2) == 0 and (y % 2) == 0:\n",
    "    print('YY')\n",
    "elif (x % 2) == 1 and (y % 2) == 1:\n",
    "    print('NN')\n",
    "elif (x % 2) == 0 and (y % 2) == 1:\n",
    "    print('YN')    \n",
    "elif (x % 2) == 1 and (y % 2) == 0:\n",
    "    print('NY') \n"
   ]
  },
  {
   "cell_type": "code",
   "execution_count": 10,
   "metadata": {},
   "outputs": [
    {
     "name": "stdout",
     "output_type": "stream",
     "text": [
      "YY\n"
     ]
    }
   ],
   "source": [
    "x = 378\n",
    "y = 872\n",
    "\n",
    "if (x % 2) == 0 and (y % 2) == 0:\n",
    "    print('YY')\n",
    "elif (x % 2) == 1 and (y % 2) == 1:\n",
    "    print('NN')\n",
    "elif (x % 2) == 0 and (y % 2) == 1:\n",
    "    print('YN')    \n",
    "elif (x % 2) == 1 and (y % 2) == 0:\n",
    "    print('NY') \n"
   ]
  },
  {
   "cell_type": "code",
   "execution_count": 11,
   "metadata": {},
   "outputs": [
    {
     "data": {
      "text/plain": [
       "[1, 3, 5, 7, 9]"
      ]
     },
     "execution_count": 11,
     "metadata": {},
     "output_type": "execute_result"
    }
   ],
   "source": [
    "list = [1,2,3,4,5,6,7,8,9]\n",
    "odd_number_list = []\n",
    "\n",
    "for x in list:\n",
    "    if (x % 2) == 1:\n",
    "        odd_number_list.append(x)\n",
    "\n",
    "\n",
    "odd_number_list"
   ]
  },
  {
   "cell_type": "code",
   "execution_count": 15,
   "metadata": {},
   "outputs": [],
   "source": [
    "import random\n",
    "status = [\"Rock\", \"Paper\", \"Scissors\"]\n",
    "def figure_guess():\n",
    "    return random.choice(status)"
   ]
  },
  {
   "cell_type": "code",
   "execution_count": 19,
   "metadata": {},
   "outputs": [
    {
     "name": "stdout",
     "output_type": "stream",
     "text": [
      "First Player:  Scissors \n",
      "Second Player:  Paper\n",
      "First Player Wins\n"
     ]
    }
   ],
   "source": [
    "import guess\n",
    "\n",
    "computer1 = figure_guess()\n",
    "computer2 = figure_guess()\n",
    "print(\"First Player: \", computer1, \"\\nSecond Player: \", computer2)\n",
    "\n",
    "S = \"Scissors\"\n",
    "R = \"Rock\"\n",
    "P = \"Paper\"\n",
    "\n",
    "if (computer1 == S and computer2 == S):\n",
    "    print(\"Tie\")\n",
    "elif (computer1 == S and computer2 == R):\n",
    "    print(\"Second Player Wins\")\n",
    "elif (computer1 == S and computer2 == P):\n",
    "    print(\"First Player Wins\")\n",
    "elif (computer1 == R and computer2 == R):        \n",
    "    print(\"Tie\")\n",
    "elif (computer1 == R and computer2 == S):  \n",
    "    print(\"First Player Wins\")\n",
    "elif (computer1 == R and computer2 == P):  \n",
    "    print(\"Second Player Wins\")\n",
    "elif (computer1 == P and computer2 == S):  \n",
    "    print(\"Second Player Wins\")\n",
    "elif (computer1 == P and computer2 == R):  \n",
    "    print(\"First Player Wins\")\n",
    "elif (computer1 == P and computer2 == P):  \n",
    "    print(\"Tie\")\n"
   ]
  },
  {
   "cell_type": "code",
   "execution_count": null,
   "metadata": {},
   "outputs": [],
   "source": []
  }
 ],
 "metadata": {
  "kernelspec": {
   "display_name": "Python 3",
   "language": "python",
   "name": "python3"
  },
  "language_info": {
   "codemirror_mode": {
    "name": "ipython",
    "version": 3
   },
   "file_extension": ".py",
   "mimetype": "text/x-python",
   "name": "python",
   "nbconvert_exporter": "python",
   "pygments_lexer": "ipython3",
   "version": "3.7.6"
  }
 },
 "nbformat": 4,
 "nbformat_minor": 4
}
